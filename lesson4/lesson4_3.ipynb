{
 "cells": [
  {
   "cell_type": "code",
   "execution_count": null,
   "metadata": {},
   "outputs": [],
   "source": [
    "#輸入顧客購買金額，若金額在\n",
    "#100000元打8折. \n",
    "#50000打85折. \n",
    "#30000打9折. \n",
    "#10000打95折.\n",
    "\n",
    "import math\n",
    "\n",
    "money = int(input('請輸入購買金額:'))\n",
    "if money < 10000:\n",
    "    pay_money = money\n",
    "elif money < 30000:\n",
    "    pay_money = money * 0.95\n",
    "elif money < 50000:\n",
    "    pay_money = money * 0.9\n",
    "elif money < 100000:\n",
    "    pay_money = money * 0.85\n",
    "else:\n",
    "    pay_money = money * 0.8\n",
    "\n",
    "print(f\"實付金額是:{math.ceil(pay_money)}\")"
   ]
  }
 ],
 "metadata": {
  "language_info": {
   "name": "python"
  }
 },
 "nbformat": 4,
 "nbformat_minor": 2
}
