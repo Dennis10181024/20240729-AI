{
 "cells": [
  {
   "cell_type": "code",
   "execution_count": 3,
   "metadata": {},
   "outputs": [
    {
     "name": "stdout",
     "output_type": "stream",
     "text": [
      "可以考駕照\n"
     ]
    }
   ],
   "source": [
    "age = 25\n",
    "if age >= 18:\n",
    "    print('可以考駕照')\n",
    "else:\n",
    "    print('不可以考駕照')    "
   ]
  },
  {
   "cell_type": "code",
   "execution_count": 7,
   "metadata": {},
   "outputs": [
    {
     "name": "stdout",
     "output_type": "stream",
     "text": [
      "格式錯誤\n",
      "學生總分是：300\n"
     ]
    }
   ],
   "source": [
    "#輸入學生分數，最高300分\n",
    "#要不要加分(yes,no)\n",
    "#yes,總分加5%\n",
    "import math\n",
    "try:\n",
    "    score = int(input('輸入學生分數，最高300分'))\n",
    "except ValueError:\n",
    "       print('格式錯誤')\n",
    "else:        \n",
    "    is_add = input('要不要加分(yes,no)')\n",
    "    if is_add == 'yes':\n",
    "            score *= 1.05\n",
    "            score = math.ceil(score)\n",
    "            if score > 300:\n",
    "                    score = 300\n",
    "    print(f'學生總分是：{score}')        \n",
    "print('應用程式結束')"
   ]
  }
 ],
 "metadata": {
  "kernelspec": {
   "display_name": "Python 3",
   "language": "python",
   "name": "python3"
  },
  "language_info": {
   "codemirror_mode": {
    "name": "ipython",
    "version": 3
   },
   "file_extension": ".py",
   "mimetype": "text/x-python",
   "name": "python",
   "nbconvert_exporter": "python",
   "pygments_lexer": "ipython3",
   "version": "3.11.9"
  }
 },
 "nbformat": 4,
 "nbformat_minor": 2
}
